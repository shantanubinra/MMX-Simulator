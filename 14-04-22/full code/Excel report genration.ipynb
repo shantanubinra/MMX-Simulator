{
 "cells": [
  {
   "cell_type": "code",
   "execution_count": 1,
   "metadata": {},
   "outputs": [],
   "source": [
    "# initial imports \n",
    "import pandas as pd\n",
    "from gekko import GEKKO\n",
    "import numpy as np \n",
    "import seaborn as sns \n",
    "import logging\n",
    "from functools import lru_cache\n",
    "import ast \n",
    "import os \n",
    "import pandas as pd\n",
    "from datetime import date\n",
    "\n",
    "import matplotlib.pyplot as plt"
   ]
  },
  {
   "cell_type": "code",
   "execution_count": 2,
   "metadata": {},
   "outputs": [],
   "source": [
    "# HCP DIGI \n",
    "hcp_digi_m1 = 6.01286785e+02\n",
    "hcp_digi_m2 = -3.39198693e-01 \n",
    "hcp_digi_m3 = 6.35363532e-05\n",
    "hcp_digi_int_C = 67555.27887\t\n",
    "\n",
    "# HCP MAIL \n",
    "hcp_mail_m1 = 2.97917081e+03\n",
    "hcp_mail_m2 = -1.71565008e+00 \n",
    "hcp_mail_int_c = -48721.27889\n",
    "\n",
    "# DTC DISPLAY \n",
    "\n",
    "dtc_disp_m1 = 3.45276779e+04\n",
    "dtc_disp_m2 =  -1.65277192e+01  \n",
    "dtc_disp_m3 = 5.93452413e-03\n",
    "dtc_disp_m4 =  -9.42046720e-07\n",
    "dtc_disp_intc = 192670.1652\t\n",
    "\n",
    "# HCP  DISPLAY \n",
    "hcp_disp_m1 =  4.11445774e-01 \n",
    "hcp_disp_m2 =  1.27940560e+02\n",
    "hcp_disp_m3 = -2.22402089e-01\n",
    "hcp_disp_m4 =  1.71248457e-04\n",
    "hcp_disp_m5 = -6.33547691e-08\n",
    "hcp_disp_m6 = 9.13303494e-12\n",
    "hcp_disp_intc = 817530.438\n",
    "\n",
    "# -- field calls \n",
    "\n",
    "# model coeff_\n",
    "f_m1 = 1.10785653e-03  \n",
    "f_m2 = 3.42403093e+00 \n",
    "f_m3 = -4.55404565e-04  \n",
    "f_m4 = 2.57919190e-08 \n",
    "f_m5 = -5.53661654e-13\n",
    "f_Intercept_ = 239297\n",
    "f_mROI_latch = 1.005172531\n",
    "\n",
    "# hcp paid search ( corfficients & intercept )\n",
    "hcp_m1 = 2.83578835e+04  \n",
    "hcp_m2 = -1.67861082e+01 \n",
    "hcp_int_c = -572151.0421\n",
    "\n",
    "#DTC PAID SEARCH ( corfficients & intercept )\n",
    "dtc_p_search_m1 = 1.71479676e+03 \n",
    "dtc_p_search_m2 = -1.75357980e-01\n",
    "dtc_p_search_int_c = -245074.9513\n",
    "\n",
    "# Speaker program Person \n",
    "\n",
    "sp_p_m1 = 4.76886710e+01  \n",
    "sp_p_m2 =  -3.09063497e-02 \n",
    "sp_p_m3 =  6.78852771e-06\n",
    "sp_p_intc = -744.7706042\n",
    "\n",
    "# Speaker program Virtual \n",
    "sp_v_m1 = 4.21116616e+02 \n",
    "sp_v_m2 = -2.80086720e-01 \n",
    "sp_v_m3 = 5.98234666e-05\n",
    "sp_v_intc = 45819.06696\n",
    "\n",
    "\n",
    "\n",
    "# GNA CALLS \n",
    "gna_call_m1 = 1.53789502e+04\n",
    "gna_call_m2 =  -1.56081127e+01  \n",
    "gna_call_m3 = 7.02161425e-03 \n",
    "gna_call_m4 = -1.17091134e-06\n",
    "gna_call_intc = -996495.5305\n",
    "\n",
    "# DTC SOCIAL \n",
    "dtc_social_m1 = 1.34750048e+04  \n",
    "dtc_social_m2 = 9.07146577e+00 \n",
    "dtc_social_m3 = -1.35022365e-02 \n",
    "dtc_social_m4 =  5.48239513e-06 \n",
    "dtc_social_m5 = -7.59241220e-10\n",
    "\n",
    "dtc_social_intc = -1419139.752"
   ]
  },
  {
   "cell_type": "code",
   "execution_count": 91,
   "metadata": {},
   "outputs": [
    {
     "data": {
      "text/html": [
       "<div>\n",
       "<style scoped>\n",
       "    .dataframe tbody tr th:only-of-type {\n",
       "        vertical-align: middle;\n",
       "    }\n",
       "\n",
       "    .dataframe tbody tr th {\n",
       "        vertical-align: top;\n",
       "    }\n",
       "\n",
       "    .dataframe thead th {\n",
       "        text-align: right;\n",
       "    }\n",
       "</style>\n",
       "<table border=\"1\" class=\"dataframe\">\n",
       "  <thead>\n",
       "    <tr style=\"text-align: right;\">\n",
       "      <th></th>\n",
       "      <th>Channel Names</th>\n",
       "      <th>Current Spend</th>\n",
       "      <th>Saturation Point</th>\n",
       "    </tr>\n",
       "  </thead>\n",
       "  <tbody>\n",
       "    <tr>\n",
       "      <th>0</th>\n",
       "      <td>field call</td>\n",
       "      <td>52891109.13</td>\n",
       "      <td>30147932.21</td>\n",
       "    </tr>\n",
       "    <tr>\n",
       "      <th>1</th>\n",
       "      <td>dtc paid search</td>\n",
       "      <td>6100000.38</td>\n",
       "      <td>5246000.00</td>\n",
       "    </tr>\n",
       "    <tr>\n",
       "      <th>2</th>\n",
       "      <td>hcp paid search</td>\n",
       "      <td>195203.29</td>\n",
       "      <td>199107.00</td>\n",
       "    </tr>\n",
       "    <tr>\n",
       "      <th>3</th>\n",
       "      <td>hcp_digital_spend</td>\n",
       "      <td>1468985.00</td>\n",
       "      <td>396626.00</td>\n",
       "    </tr>\n",
       "    <tr>\n",
       "      <th>4</th>\n",
       "      <td>hcp_mail_spend</td>\n",
       "      <td>130745.01</td>\n",
       "      <td>160816.00</td>\n",
       "    </tr>\n",
       "    <tr>\n",
       "      <th>5</th>\n",
       "      <td>dtc_display_spend</td>\n",
       "      <td>1440000.05</td>\n",
       "      <td>1843200.00</td>\n",
       "    </tr>\n",
       "    <tr>\n",
       "      <th>6</th>\n",
       "      <td>hcp_display_spend</td>\n",
       "      <td>1036398.00</td>\n",
       "      <td>1129674.00</td>\n",
       "    </tr>\n",
       "    <tr>\n",
       "      <th>7</th>\n",
       "      <td>spk_person_spend</td>\n",
       "      <td>1008083.93</td>\n",
       "      <td>20161.68</td>\n",
       "    </tr>\n",
       "    <tr>\n",
       "      <th>8</th>\n",
       "      <td>spk_virtual_spend</td>\n",
       "      <td>1260916.07</td>\n",
       "      <td>12609.16</td>\n",
       "    </tr>\n",
       "    <tr>\n",
       "      <th>9</th>\n",
       "      <td>gna_call_spend</td>\n",
       "      <td>1100000.00</td>\n",
       "      <td>616000.00</td>\n",
       "    </tr>\n",
       "    <tr>\n",
       "      <th>10</th>\n",
       "      <td>dtc_social_spend</td>\n",
       "      <td>1536000.00</td>\n",
       "      <td>1812480.00</td>\n",
       "    </tr>\n",
       "  </tbody>\n",
       "</table>\n",
       "</div>"
      ],
      "text/plain": [
       "         Channel Names  Current Spend  Saturation Point\n",
       "0           field call    52891109.13       30147932.21\n",
       "1      dtc paid search     6100000.38        5246000.00\n",
       "2      hcp paid search      195203.29         199107.00\n",
       "3    hcp_digital_spend     1468985.00         396626.00\n",
       "4       hcp_mail_spend      130745.01         160816.00\n",
       "5    dtc_display_spend     1440000.05        1843200.00\n",
       "6    hcp_display_spend     1036398.00        1129674.00\n",
       "7     spk_person_spend     1008083.93          20161.68\n",
       "8    spk_virtual_spend     1260916.07          12609.16\n",
       "9       gna_call_spend     1100000.00         616000.00\n",
       "10    dtc_social_spend     1536000.00        1812480.00"
      ]
     },
     "execution_count": 91,
     "metadata": {},
     "output_type": "execute_result"
    }
   ],
   "source": [
    "data = pd.read_excel('../Excel_data_input/Reports.xlsx' , sheet_name='current_val')\n",
    "pd.options.display.float_format = \"{:.2f}\".format\n",
    "data.head(11)"
   ]
  },
  {
   "cell_type": "code",
   "execution_count": 92,
   "metadata": {},
   "outputs": [
    {
     "data": {
      "text/plain": [
       "68167440.85520014"
      ]
     },
     "execution_count": 92,
     "metadata": {},
     "output_type": "execute_result"
    }
   ],
   "source": [
    "data['Current Spend'].sum()\n"
   ]
  },
  {
   "cell_type": "markdown",
   "metadata": {},
   "source": [
    "## -ve analysis ( with ub = Saturation Points)\n",
    "\n",
    "-  **Upper boundary** = **saturation point** \n",
    "-  **Lower Boundary** = **Spend at -99%**           \n",
    "- **budget : -10 % to -50% of Current spend**"
   ]
  },
  {
   "cell_type": "code",
   "execution_count": 33,
   "metadata": {},
   "outputs": [
    {
     "data": {
      "text/html": [
       "<div>\n",
       "<style scoped>\n",
       "    .dataframe tbody tr th:only-of-type {\n",
       "        vertical-align: middle;\n",
       "    }\n",
       "\n",
       "    .dataframe tbody tr th {\n",
       "        vertical-align: top;\n",
       "    }\n",
       "\n",
       "    .dataframe thead th {\n",
       "        text-align: right;\n",
       "    }\n",
       "</style>\n",
       "<table border=\"1\" class=\"dataframe\">\n",
       "  <thead>\n",
       "    <tr style=\"text-align: right;\">\n",
       "      <th></th>\n",
       "      <th>Channel Names</th>\n",
       "      <th>Current Spend</th>\n",
       "      <th>Saturation Point</th>\n",
       "    </tr>\n",
       "  </thead>\n",
       "  <tbody>\n",
       "    <tr>\n",
       "      <th>0</th>\n",
       "      <td>field call</td>\n",
       "      <td>52891109.13</td>\n",
       "      <td>30147932.21</td>\n",
       "    </tr>\n",
       "    <tr>\n",
       "      <th>1</th>\n",
       "      <td>dtc paid search</td>\n",
       "      <td>6100000.38</td>\n",
       "      <td>5246000.00</td>\n",
       "    </tr>\n",
       "    <tr>\n",
       "      <th>2</th>\n",
       "      <td>hcp paid search</td>\n",
       "      <td>195203.29</td>\n",
       "      <td>199107.00</td>\n",
       "    </tr>\n",
       "    <tr>\n",
       "      <th>3</th>\n",
       "      <td>hcp_digital_spend</td>\n",
       "      <td>1468985.00</td>\n",
       "      <td>396626.00</td>\n",
       "    </tr>\n",
       "    <tr>\n",
       "      <th>4</th>\n",
       "      <td>hcp_mail_spend</td>\n",
       "      <td>130745.01</td>\n",
       "      <td>160816.00</td>\n",
       "    </tr>\n",
       "    <tr>\n",
       "      <th>5</th>\n",
       "      <td>dtc_display_spend</td>\n",
       "      <td>1440000.05</td>\n",
       "      <td>1843200.00</td>\n",
       "    </tr>\n",
       "    <tr>\n",
       "      <th>6</th>\n",
       "      <td>hcp_display_spend</td>\n",
       "      <td>1036398.00</td>\n",
       "      <td>1129674.00</td>\n",
       "    </tr>\n",
       "    <tr>\n",
       "      <th>7</th>\n",
       "      <td>spk_person_spend</td>\n",
       "      <td>1008083.93</td>\n",
       "      <td>20161.68</td>\n",
       "    </tr>\n",
       "    <tr>\n",
       "      <th>8</th>\n",
       "      <td>spk_virtual_spend</td>\n",
       "      <td>1260916.07</td>\n",
       "      <td>12609.16</td>\n",
       "    </tr>\n",
       "    <tr>\n",
       "      <th>9</th>\n",
       "      <td>gna_call_spend</td>\n",
       "      <td>1100000.00</td>\n",
       "      <td>616000.00</td>\n",
       "    </tr>\n",
       "    <tr>\n",
       "      <th>10</th>\n",
       "      <td>dtc_social_spend</td>\n",
       "      <td>1536000.00</td>\n",
       "      <td>1812480.00</td>\n",
       "    </tr>\n",
       "  </tbody>\n",
       "</table>\n",
       "</div>"
      ],
      "text/plain": [
       "         Channel Names  Current Spend  Saturation Point\n",
       "0           field call    52891109.13       30147932.21\n",
       "1      dtc paid search     6100000.38        5246000.00\n",
       "2      hcp paid search      195203.29         199107.00\n",
       "3    hcp_digital_spend     1468985.00         396626.00\n",
       "4       hcp_mail_spend      130745.01         160816.00\n",
       "5    dtc_display_spend     1440000.05        1843200.00\n",
       "6    hcp_display_spend     1036398.00        1129674.00\n",
       "7     spk_person_spend     1008083.93          20161.68\n",
       "8    spk_virtual_spend     1260916.07          12609.16\n",
       "9       gna_call_spend     1100000.00         616000.00\n",
       "10    dtc_social_spend     1536000.00        1812480.00"
      ]
     },
     "execution_count": 33,
     "metadata": {},
     "output_type": "execute_result"
    }
   ],
   "source": [
    "data"
   ]
  },
  {
   "cell_type": "code",
   "execution_count": 8,
   "metadata": {},
   "outputs": [
    {
     "data": {
      "text/plain": [
       "61350696.76968013"
      ]
     },
     "execution_count": 8,
     "metadata": {},
     "output_type": "execute_result"
    }
   ],
   "source": [
    "data['Current Spend'].sum() - data['Current Spend'].sum()*0.1"
   ]
  },
  {
   "cell_type": "code",
   "execution_count": 127,
   "metadata": {},
   "outputs": [
    {
     "name": "stdout",
     "output_type": "stream",
     "text": [
      "Total Budget  :  68167440.85520014\n",
      "-10 %  61350696.76968013\n",
      "-20 %  54533952.68416011\n",
      "-30 %  47717208.5986401\n",
      "-40 %  40900464.513120085\n",
      "-50 %  34083720.42760007\n"
     ]
    }
   ],
   "source": [
    "Total_budget = data['Current Spend'].sum()\n",
    "budget_10pcnt = data['Current Spend'].sum() - ( data['Current Spend'].sum() * 0.1 )  # -10%\n",
    "budget_20pcnt = data['Current Spend'].sum() - ( data['Current Spend'].sum() * 0.2 )\n",
    "budget_30pcnt = data['Current Spend'].sum() - ( data['Current Spend'].sum() * 0.3 )\n",
    "budget_40pcnt = data['Current Spend'].sum() - ( data['Current Spend'].sum() * 0.4 )\n",
    "budget_50pcnt = data['Current Spend'].sum() - ( data['Current Spend'].sum() * 0.5 )\n",
    "budget_60pcnt = data['Current Spend'].sum() - ( data['Current Spend'].sum() * 0.6 )\n",
    "print('Total Budget  : ' , Total_budget)\n",
    "print('-10 % ' , budget_10pcnt)\n",
    "print('-20 % ' ,budget_20pcnt)\n",
    "print('-30 % ' ,budget_30pcnt )\n",
    "print('-40 % ' ,budget_40pcnt)\n",
    "print('-50 % ' ,budget_50pcnt)\n",
    "# print('-10 % ' ,budget_60pcnt)\n"
   ]
  },
  {
   "cell_type": "code",
   "execution_count": 4,
   "metadata": {},
   "outputs": [],
   "source": [
    "total_budget =68167440.85520014\n",
    "\n",
    "def gekko_ (total_budget) : \n",
    "    model_2 = GEKKO()\n",
    "\n",
    "    total_spend = model_2.Const(total_budget)\n",
    "\n",
    "    # Constant spend of Websites \n",
    "    constant_values = {'hcp_website_spend_' : 483486 ,'dtc_website_spend_' : 400000 , 'hcp_website_revenue_' : 6800000 ,'dtc_website_revenue_' :  9600000 } \n",
    "\n",
    "    ##  revenue of websites\n",
    "    fild_spend = model_2.Var(value=51251485+(-0.10*51251485) , lb=51251485+(-0.10*51251485)  , ub = 51251485+(0.10*51251485), name='Field call spend' )   \n",
    "    dp_spend = model_2.Var(value= 6100000+(-0.10*6100000) , lb= 6100000+(-0.10*6100000), ub = 6100000+(0.10*6100000) , name='dtc paid search')     # change in upper boundary\n",
    "    hcp_spend = model_2.Var(value=  238929+(-0.10*238929), lb= 238929+(-0.10*238929) , ub= 238929+(0.10*238929), name='hcp paid search' )   # hcp paid search  \n",
    "    hcp_digital_spend = model_2.Var(value=  1468985+(-0.10*1468985), lb= 1468985+(-0.10*1468985)  , ub=1468985+(0.10*1468985) , name='hcp digital spend' ) \n",
    "    hcp_mail_spend = model_2.Var(value=  192980+(-0.10*192980)  , lb= 192980+(-0.10*192980)  , ub=  192980+(0.10*192980) , name='hcp mail spend' )\n",
    "    dtc_display_spend = model_2.Var(value=  2027520+(-0.10*2027520), lb= 2027520+(-0.10*2027520)   , ub= 2027520+(0.10*2027520)  , name='dtc display spend'  ) \n",
    "    hcp_display_spend = model_2.Var(value=  1242641+(-0.10*1242641)  , lb=  1242641+(-0.10*1242641)   , ub=1242641+(0.10*1242641), name='hcp display spend' ) \n",
    "    spk_person_spend = model_2.Var(value=   1008084+(-0.10*1008084) , lb= 1008084+(-0.10*1008084)   , ub= 1008084+(0.10*1008084) , name='spk person spend') \n",
    "    spk_virtual_spend = model_2.Var(value=  1260916+(-0.10*1260916), lb=1260916+(-0.10*1260916), ub= 1260916+(0.10*1260916), name='spk virtual spend')     # changes in lower boundary \n",
    "    gna_Calls_spend = model_2.Var(value=  1100000+(-0.10*1100000), lb= 1100000+(-0.10*1100000) , ub= 1100000+(0.10*1100000), name='gna call spend')  \n",
    "    dtc_social_spend = model_2.Var(value= 1993728+(-0.10*1993728), lb= 1993728+(-0.10*1993728) , ub=  1993728+(0.10*1993728) , name='dtc_social_spend')  \n",
    "\n",
    "\n",
    "\n",
    "    # sqrts  : Sqrt of channel as we have use SQRT + poly transformation \n",
    "    Field_sqrt = fild_spend**0.5       \n",
    "    dp_sqrt = dp_spend**0.5\n",
    "    hcp_sqrt = hcp_spend**0.5   # hcp paid search \n",
    "    hcp_digital_sqrt = hcp_digital_spend**0.5\n",
    "    hcp_mail_Sqrt = hcp_mail_spend**0.5 \n",
    "    dtc_display_sqrt = dtc_display_spend**0.5\n",
    "    hcp_display_sqrt = hcp_display_spend**0.5 \n",
    "    spk_person_sqrt = spk_person_spend**0.5 \n",
    "    spk_virtual_Sqrt = spk_virtual_spend**0.5\n",
    "    gna_call_sqrt = gna_Calls_spend**0.5 \n",
    "    dtc_social_sqrt  = dtc_social_spend**0.5 \n",
    "\n",
    "    # Equations \n",
    "\n",
    "    y_fild_calls = (Field_sqrt*f_m1) + (Field_sqrt**2)*(f_m2) + (Field_sqrt**3)*(f_m3) + (Field_sqrt**4)*(f_m4) + (Field_sqrt**5)*(f_m5) + f_Intercept_ # Revenue Field calls\n",
    "\n",
    "    # DTC PAID SEARCH \n",
    "    y_dp_search = dp_sqrt*(dtc_p_search_m1) + ((dp_sqrt**2)*(dtc_p_search_m2))  + dtc_p_search_int_c    # Revenue  DTC paid search\n",
    "\n",
    "    y_hcp_search = hcp_sqrt*(hcp_m1) + ( (hcp_sqrt**2)* hcp_m2) + hcp_int_c # Revenue HCP search \n",
    "\n",
    "    # hcp digital \n",
    "    y_hcp_digital  = hcp_digital_sqrt*(hcp_digi_m1) +  (hcp_digital_sqrt**2)*hcp_digi_m2 + (hcp_digital_sqrt**3)*hcp_digi_m3 + hcp_digi_int_C\n",
    "\n",
    "    # HCP MAIL\n",
    "    y_hcp_mail = hcp_mail_Sqrt*hcp_mail_m1 + (hcp_mail_Sqrt**2)*hcp_mail_m2 + hcp_mail_int_c\n",
    "\n",
    "    # DTC DISPLAY \n",
    "    y_dtc_display = dtc_display_sqrt*dtc_disp_m1 + (dtc_display_sqrt**2)*dtc_disp_m2 + (dtc_display_sqrt**3)*dtc_disp_m3 + (dtc_display_sqrt**4)*dtc_disp_m4 + dtc_disp_intc\n",
    "\n",
    "    # HCP DISPLAY \n",
    "    y_hcp_display = hcp_display_sqrt*hcp_disp_m1 + (hcp_display_sqrt**2)*hcp_disp_m2 + (hcp_display_sqrt**3)*hcp_disp_m3 + (hcp_display_sqrt**4)*hcp_disp_m4  + (hcp_display_sqrt**5)*hcp_disp_m5 + (hcp_display_sqrt**6)*hcp_disp_m6+ hcp_disp_intc\n",
    "\n",
    "\n",
    "    # speaker program-person\n",
    "    y_spk_person = spk_person_sqrt*sp_p_m1 + (spk_person_sqrt**2)*(sp_p_m2) + (spk_person_sqrt**3)*(sp_p_m3) + sp_p_intc\n",
    "\n",
    "    # Speaker program Virtual \n",
    "    y_spk_virtual = spk_virtual_Sqrt*sp_v_m1 + (spk_virtual_Sqrt**2)*(sp_v_m2) + (spk_virtual_Sqrt**3)*(sp_v_m3) + sp_v_intc\n",
    "\n",
    "    # GNA CALLS \n",
    "    y_gna_Calls = gna_call_sqrt*gna_call_m1 + (gna_call_sqrt**2)*(gna_call_m2)+ (gna_call_sqrt**3)*(gna_call_m3)+ (gna_call_sqrt**4)*(gna_call_m4) + gna_call_intc\n",
    "\n",
    "    # DTC SOCIAL \n",
    "    y_dtc_social = (dtc_social_sqrt * dtc_social_m1) + (dtc_social_sqrt**2)*(dtc_social_m2) + (dtc_social_sqrt**3)*(dtc_social_m3) + (dtc_social_sqrt**4)*(dtc_social_m4) + (dtc_social_sqrt**5)*(dtc_social_m5) + dtc_social_intc\n",
    "\n",
    "\n",
    "\n",
    "    model_2.Equations([fild_spend + dp_spend + hcp_spend + hcp_digital_spend + hcp_mail_spend + dtc_display_spend + hcp_display_spend + spk_person_spend + spk_virtual_spend + gna_Calls_spend +dtc_social_spend <= total_spend] )  # sum of spend on all channels == Total Spend\n",
    "\n",
    "    model_2.Maximize(y_fild_calls + y_dp_search + y_hcp_search + y_hcp_digital + y_hcp_mail + y_dtc_display + y_hcp_display + y_spk_person + y_spk_virtual + y_gna_Calls + y_dtc_social  )    # #total revenue should be max \n",
    "\n",
    "    model_2.solve(disp=False) \n",
    "    return model_2 , constant_values"
   ]
  },
  {
   "cell_type": "code",
   "execution_count": 5,
   "metadata": {},
   "outputs": [],
   "source": [
    "model_2 ,constants_vars = gekko_(total_budget=total_budget)"
   ]
  },
  {
   "cell_type": "code",
   "execution_count": 24,
   "metadata": {},
   "outputs": [
    {
     "data": {
      "text/plain": [
       "{'hcp_website_spend_': 483486,\n",
       " 'dtc_website_spend_': 400000,\n",
       " 'hcp_website_revenue_': 6800000,\n",
       " 'dtc_website_revenue_': 9600000}"
      ]
     },
     "execution_count": 24,
     "metadata": {},
     "output_type": "execute_result"
    }
   ],
   "source": [
    "constants_vars"
   ]
  },
  {
   "cell_type": "code",
   "execution_count": 7,
   "metadata": {},
   "outputs": [
    {
     "name": "stdout",
     "output_type": "stream",
     "text": [
      "[[52057876.591], [5490000.0], [262821.9], [1322086.5], [212278.0], [2230272.0], [1366905.1], [907275.6], [1134824.4], [990000.0], [2193100.8]]\n"
     ]
    },
    {
     "data": {
      "text/plain": [
       "11"
      ]
     },
     "execution_count": 7,
     "metadata": {},
     "output_type": "execute_result"
    }
   ],
   "source": [
    "print(model_2._variables)\n",
    "len([x[0] for x in model_2._variables])"
   ]
  },
  {
   "cell_type": "code",
   "execution_count": 19,
   "metadata": {},
   "outputs": [
    {
     "data": {
      "text/plain": [
       "[i15, i16, i17]"
      ]
     },
     "execution_count": 19,
     "metadata": {},
     "output_type": "execute_result"
    }
   ],
   "source": [
    "model_2._constants\n"
   ]
  },
  {
   "cell_type": "code",
   "execution_count": 16,
   "metadata": {},
   "outputs": [
    {
     "data": {
      "text/plain": [
       "9600000"
      ]
     },
     "execution_count": 16,
     "metadata": {},
     "output_type": "execute_result"
    }
   ],
   "source": [
    "hcp_website_revenue_.VALUE\n",
    "dtc_website_revenue_.VALUE"
   ]
  },
  {
   "cell_type": "code",
   "execution_count": null,
   "metadata": {},
   "outputs": [],
   "source": []
  },
  {
   "cell_type": "code",
   "execution_count": null,
   "metadata": {},
   "outputs": [],
   "source": []
  },
  {
   "cell_type": "code",
   "execution_count": 8,
   "metadata": {},
   "outputs": [
    {
     "data": {
      "text/plain": [
       "-155817302.94"
      ]
     },
     "execution_count": 8,
     "metadata": {},
     "output_type": "execute_result"
    }
   ],
   "source": [
    "model_2.options.OBJFCNVAL\n",
    "# [x[0] for x in model_2._variables]"
   ]
  },
  {
   "cell_type": "code",
   "execution_count": 9,
   "metadata": {},
   "outputs": [],
   "source": [
    "hcp_website_spend_ = model_2.Const(483486)\n",
    "dtc_website_spend_ = model_2.Const(400000)"
   ]
  },
  {
   "cell_type": "code",
   "execution_count": 9,
   "metadata": {},
   "outputs": [
    {
     "data": {
      "text/plain": [
       "[[52057876.591],\n",
       " [5490000.0],\n",
       " [262821.9],\n",
       " [1322086.5],\n",
       " [212278.0],\n",
       " [2230272.0],\n",
       " [1366905.1],\n",
       " [907275.6],\n",
       " [1134824.4],\n",
       " [990000.0],\n",
       " [2193100.8],\n",
       " [128604.41133],\n",
       " [55018.913958]]"
      ]
     },
     "execution_count": 9,
     "metadata": {},
     "output_type": "execute_result"
    }
   ],
   "source": [
    "model_2._variables"
   ]
  },
  {
   "cell_type": "code",
   "execution_count": 10,
   "metadata": {},
   "outputs": [
    {
     "data": {
      "text/plain": [
       "11"
      ]
     },
     "execution_count": 10,
     "metadata": {},
     "output_type": "execute_result"
    }
   ],
   "source": [
    "len([x[0] for x in model_2._variables])"
   ]
  },
  {
   "cell_type": "markdown",
   "metadata": {},
   "source": [
    "## prediction : "
   ]
  },
  {
   "cell_type": "code",
   "execution_count": 11,
   "metadata": {},
   "outputs": [],
   "source": [
    "l = [ x[0] for x in model_2._variables]\n",
    "Field_sqrt = l[0]**0.5\n",
    "dp_sqrt = l[1]**0.5  \n",
    "hcp_sqrt =l[2]**0.5 \n",
    "hcp_digital_sqrt =  l[3]**0.5\n",
    "hcp_mail_Sqrt = l[4]**0.5\n",
    "dtc_display_sqrt = l[5]**0.5 \n",
    "hcp_display_sqrt = l[6]**0.5       \n",
    "spk_person_sqrt = l[7]**0.5\n",
    "spk_virtual_Sqrt =  l[8]**0.5\n",
    "gna_call_sqrt =l[9]**0.5 \n",
    "dtc_social_sqrt  = l[10]**0.5 "
   ]
  },
  {
   "cell_type": "code",
   "execution_count": 12,
   "metadata": {},
   "outputs": [],
   "source": [
    "y_fild_calls = (Field_sqrt*f_m1) + (Field_sqrt**2)*(f_m2) + (Field_sqrt**3)*(f_m3) + (Field_sqrt**4)*(f_m4) + (Field_sqrt**5)*(f_m5) + f_Intercept_ # Revenue Field calls\n",
    "\n",
    "# DTC PAID SEARCH \n",
    "y_dp_search = dp_sqrt*(dtc_p_search_m1) + ((dp_sqrt**2)*(dtc_p_search_m2))  + dtc_p_search_int_c    # Revenue  DTC paid search\n",
    "\n",
    "y_hcp_search = hcp_sqrt*(hcp_m1) + ( (hcp_sqrt**2)* hcp_m2) + hcp_int_c # Revenue HCP search \n",
    "\n",
    "# hcp digital \n",
    "y_hcp_digital  = hcp_digital_sqrt*(hcp_digi_m1) +  (hcp_digital_sqrt**2)*hcp_digi_m2 + (hcp_digital_sqrt**3)*hcp_digi_m3 + hcp_digi_int_C\n",
    "\n",
    "# HCP MAIL\n",
    "y_hcp_mail = hcp_mail_Sqrt*hcp_mail_m1 + (hcp_mail_Sqrt**2)*hcp_mail_m2 + hcp_mail_int_c\n",
    "\n",
    "# DTC DISPLAY \n",
    "y_dtc_display = dtc_display_sqrt*dtc_disp_m1 + (dtc_display_sqrt**2)*dtc_disp_m2 + (dtc_display_sqrt**3)*dtc_disp_m3 + (dtc_display_sqrt**4)*dtc_disp_m4 + dtc_disp_intc\n",
    "\n",
    "\n",
    "# 24250960.13\n",
    "\n",
    "# HCP DISPLAY \n",
    "y_hcp_display = hcp_display_sqrt*hcp_disp_m1 + (hcp_display_sqrt**2)*hcp_disp_m2 + (hcp_display_sqrt**3)*hcp_disp_m3 + (hcp_display_sqrt**4)*hcp_disp_m4  + (hcp_display_sqrt**5)*hcp_disp_m5 + (hcp_display_sqrt**6)*hcp_disp_m6+ hcp_disp_intc\n",
    "\n",
    "\n",
    "# # speaker program-person\n",
    "y_spk_person = spk_person_sqrt*sp_p_m1 + (spk_person_sqrt**2)*(sp_p_m2) + (spk_person_sqrt**3)*(sp_p_m3) + sp_p_intc\n",
    "\n",
    "# Speaker program Virtual \n",
    "y_spk_virtual = spk_virtual_Sqrt*sp_v_m1 + (spk_virtual_Sqrt**2)*(sp_v_m2) + (spk_virtual_Sqrt**3)*(sp_v_m3)+ sp_v_intc\n",
    "\n",
    "# # GNA CALLS \n",
    "y_gna_Calls = gna_call_sqrt*gna_call_m1 + (gna_call_sqrt**2)*(gna_call_m2)+ (gna_call_sqrt**3)*(gna_call_m3)+ (gna_call_sqrt**4)*(gna_call_m4) + gna_call_intc\n",
    "\n",
    "# DTC SOCIAL \n",
    "y_dtc_social = (dtc_social_sqrt * dtc_social_m1) + (dtc_social_sqrt**2)*(dtc_social_m2) + (dtc_social_sqrt**3)*(dtc_social_m3) + (dtc_social_sqrt**4)*(dtc_social_m4) + (dtc_social_sqrt**5)*(dtc_social_m5) + dtc_social_intc\n",
    "\n",
    "\n",
    "\n"
   ]
  },
  {
   "cell_type": "code",
   "execution_count": 13,
   "metadata": {},
   "outputs": [
    {
     "name": "stdout",
     "output_type": "stream",
     "text": [
      "PRedicted Revenue :   155817302.94012907\n",
      "Optimizer Maximized Result :  -155817302.94\n"
     ]
    }
   ],
   "source": [
    "print( 'PRedicted Revenue :  ' , y_fild_calls + y_dp_search + y_hcp_search + y_hcp_digital + y_hcp_mail + y_dtc_display + y_hcp_display + y_spk_person + y_spk_virtual+ y_gna_Calls+ y_dtc_social)\n",
    "print('Optimizer Maximized Result : ' , model_2.options.OBJFCNVAL)"
   ]
  },
  {
   "cell_type": "code",
   "execution_count": 149,
   "metadata": {},
   "outputs": [
    {
     "name": "stdout",
     "output_type": "stream",
     "text": [
      " y_fild_calls :  62386591.70530926\n",
      " y_dp_search :  2810106.9902107343\n",
      " y_hcp_search :  9554089.589205459\n",
      " y_hcp_digital :  407062.4944582753\n",
      " y_hcp_mail :  894875.7570143475\n",
      " y_dtc_display :  28639086.267569106\n",
      " y_hcp_display :  24549014.510930628\n",
      "y_speaker_person 22505.168447354903\n",
      " y_spk_virtual :  248898.53421510113\n",
      " y_gna_Calls :  4622278.724343573\n",
      " y_dtc_social :  14831712.354535965\n"
     ]
    }
   ],
   "source": [
    "print(' y_fild_calls : ' , y_fild_calls)\n",
    "print(' y_dp_search : ' , y_dp_search)\n",
    "print(' y_hcp_search : ' , y_hcp_search)\n",
    "print(' y_hcp_digital : ' , y_hcp_digital)\n",
    "print(' y_hcp_mail : ' , y_hcp_mail)\n",
    "print(' y_dtc_display : ' , y_dtc_display)\n",
    "print(' y_hcp_display : ' , y_hcp_display)\n",
    "print('y_speaker_person' , y_spk_person)\n",
    "print(' y_spk_virtual : ' , y_spk_virtual)\n",
    "print(' y_gna_Calls : ' , y_gna_Calls)\n",
    "print(' y_dtc_social : ' , y_dtc_social)\n"
   ]
  },
  {
   "cell_type": "markdown",
   "metadata": {},
   "source": [
    "# **Excel report Generation**"
   ]
  },
  {
   "cell_type": "code",
   "execution_count": 159,
   "metadata": {},
   "outputs": [
    {
     "data": {
      "text/html": [
       "<div>\n",
       "<style scoped>\n",
       "    .dataframe tbody tr th:only-of-type {\n",
       "        vertical-align: middle;\n",
       "    }\n",
       "\n",
       "    .dataframe tbody tr th {\n",
       "        vertical-align: top;\n",
       "    }\n",
       "\n",
       "    .dataframe thead th {\n",
       "        text-align: right;\n",
       "    }\n",
       "</style>\n",
       "<table border=\"1\" class=\"dataframe\">\n",
       "  <thead>\n",
       "    <tr style=\"text-align: right;\">\n",
       "      <th></th>\n",
       "      <th>Channels</th>\n",
       "      <th>mROI at Current Spend</th>\n",
       "      <th>Current Spend</th>\n",
       "      <th>Allocated Budget</th>\n",
       "      <th>% change in Spend</th>\n",
       "      <th>Current Revenue</th>\n",
       "      <th>Predicted Revenue</th>\n",
       "      <th>% change in revenue</th>\n",
       "    </tr>\n",
       "  </thead>\n",
       "  <tbody>\n",
       "    <tr>\n",
       "      <th>0</th>\n",
       "      <td>HCP Paid Search</td>\n",
       "      <td>13.98</td>\n",
       "      <td>195203.29</td>\n",
       "      <td>262821.90</td>\n",
       "      <td>34.64</td>\n",
       "      <td>8804973.37</td>\n",
       "      <td>9554089.59</td>\n",
       "      <td>8.51</td>\n",
       "    </tr>\n",
       "    <tr>\n",
       "      <th>1</th>\n",
       "      <td>Dtc Display</td>\n",
       "      <td>6.06</td>\n",
       "      <td>1440000.05</td>\n",
       "      <td>1924534.16</td>\n",
       "      <td>33.65</td>\n",
       "      <td>26100258.36</td>\n",
       "      <td>28639086.27</td>\n",
       "      <td>9.73</td>\n",
       "    </tr>\n",
       "    <tr>\n",
       "      <th>2</th>\n",
       "      <td>HCP Display</td>\n",
       "      <td>5.85</td>\n",
       "      <td>1036398.00</td>\n",
       "      <td>1224781.09</td>\n",
       "      <td>18.18</td>\n",
       "      <td>23737244.82</td>\n",
       "      <td>24549014.51</td>\n",
       "      <td>3.42</td>\n",
       "    </tr>\n",
       "    <tr>\n",
       "      <th>3</th>\n",
       "      <td>DTC Social</td>\n",
       "      <td>2.63</td>\n",
       "      <td>1536000.06</td>\n",
       "      <td>1794355.20</td>\n",
       "      <td>16.82</td>\n",
       "      <td>14194307.87</td>\n",
       "      <td>14831712.35</td>\n",
       "      <td>4.49</td>\n",
       "    </tr>\n",
       "    <tr>\n",
       "      <th>4</th>\n",
       "      <td>HCP Email</td>\n",
       "      <td>2.32</td>\n",
       "      <td>130745.01</td>\n",
       "      <td>173682.00</td>\n",
       "      <td>32.84</td>\n",
       "      <td>809427.92</td>\n",
       "      <td>894875.76</td>\n",
       "      <td>10.56</td>\n",
       "    </tr>\n",
       "  </tbody>\n",
       "</table>\n",
       "</div>"
      ],
      "text/plain": [
       "          Channels  mROI at Current Spend  Current Spend  Allocated Budget  \\\n",
       "0  HCP Paid Search                  13.98      195203.29         262821.90   \n",
       "1      Dtc Display                   6.06     1440000.05        1924534.16   \n",
       "2      HCP Display                   5.85     1036398.00        1224781.09   \n",
       "3       DTC Social                   2.63     1536000.06        1794355.20   \n",
       "4        HCP Email                   2.32      130745.01         173682.00   \n",
       "\n",
       "   % change in Spend  Current Revenue  Predicted Revenue  % change in revenue  \n",
       "0              34.64       8804973.37         9554089.59                 8.51  \n",
       "1              33.65      26100258.36        28639086.27                 9.73  \n",
       "2              18.18      23737244.82        24549014.51                 3.42  \n",
       "3              16.82      14194307.87        14831712.35                 4.49  \n",
       "4              32.84        809427.92          894875.76                10.56  "
      ]
     },
     "execution_count": 159,
     "metadata": {},
     "output_type": "execute_result"
    }
   ],
   "source": [
    "from datetime import date\n",
    "\n",
    "\n",
    "##### Result df\n",
    "def generate_excel(Title , path='./'):\n",
    "    '''\n",
    "        AIM : This function will help to generate Excel report\n",
    "        Inputs : \n",
    "            Title : Unique name of file \n",
    "            Path : path to store file ..\n",
    "    \n",
    "    '''\n",
    "    today = date.today()\n",
    "    result_dict = {    \n",
    "                'Channels' :   ['Field calls' , 'DTC Paid Search' , 'HCP Paid Search' , 'HCP Digital' , 'HCP Email' , 'Dtc Display' , 'HCP Display' ,'Speaker Program Person' , \n",
    "                'Speaker Program Virtual' , 'GNA Calls' , 'DTC Social' ] ,         \n",
    "                'mROI at Current Spend' : [] ,         \n",
    "                'Current Spend' : [] ,  \n",
    "                'Allocated Budget' : [x[0] for x in model_2._variables] , \n",
    "\n",
    "                'Predicted Revenue' : [y_fild_calls ,y_dp_search , y_hcp_search ,y_hcp_digital , y_hcp_mail ,  y_dtc_display ,y_hcp_display , y_spk_person ,  y_spk_virtual ,y_gna_Calls ,  y_dtc_social ] , \n",
    "                'Current Spend' : [] ,\n",
    "                'Current Revenue' : [] \n",
    "                \n",
    "            } \n",
    "\n",
    "    for i in result_dict['Channels'] : \n",
    "        df = pd.read_excel('./data/data_new.xlsx' , sheet_name=i, \n",
    "                        dtype={'% Change in Spend':str} )\n",
    "        # print(np.where(df['% Change in Spend'] == '7.528699885739343e-16'))\n",
    "        Current_data_ = df[df['% Change in Spend'] == '7.528699885739343e-16']\n",
    "        result_dict['Current Spend'].append(Current_data_['Total Spend'].values[0])\n",
    "        result_dict['Current Revenue'].append(Current_data_['Revenue'].values[0])\n",
    "        result_dict['mROI at Current Spend'].append(Current_data_.iloc[:,-1].values[0]) \n",
    "    \n",
    "    result_df = pd.DataFrame(result_dict)\n",
    "    pd.options.display.float_format = \"{:.2f}\".format\n",
    "    result_df = result_df.sort_values(by=['mROI at Current Spend'] , ascending=False)\n",
    "    result_df['% change in revenue'] = ((result_df['Predicted Revenue'] - result_df['Current Revenue'] ) / result_df['Current Revenue'] )* 100\n",
    "    result_df['% change in Spend'] = ((result_df['Allocated Budget'] - result_df['Current Spend'] ) / result_df['Current Spend'] )* 100\n",
    "\n",
    "    additional_row = { 'Channels' : 'Total' , 'mROI at Current Spend' : np.nan , 'Current Spend' : result_df['Current Spend'].sum() , \n",
    "                    'Allocated Budget' : result_df['Allocated Budget'].sum(), 'Predicted Revenue' :result_df['Predicted Revenue' ].sum() , 'Current Revenue' :result_df['Current Revenue'].sum() ,\n",
    "                     '% change in revenue' : np.nan, '% change in Spend' : np.nan }\n",
    "\n",
    "\n",
    "    # arrnaging cols   \n",
    "    result_df =result_df.append(additional_row , ignore_index=True)\n",
    "    cols_sequence = ['Channels', 'mROI at Current Spend', 'Current Spend',\n",
    "        'Allocated Budget', '% change in Spend', 'Current Revenue','Predicted Revenue', \n",
    "        '% change in revenue']\n",
    "    result_df = result_df[cols_sequence]\n",
    "\n",
    "    result_df.to_excel(f'{path}{Title}_Optimizer_Reports{today.strftime(\"%d_%m_%Y\")}.xlsx')\n",
    "\n",
    "    return result_df\n",
    "\n",
    "b = generate_excel('_10' , path='../')\n",
    "b.head()"
   ]
  },
  {
   "cell_type": "code",
   "execution_count": 153,
   "metadata": {},
   "outputs": [],
   "source": []
  },
  {
   "cell_type": "code",
   "execution_count": null,
   "metadata": {},
   "outputs": [],
   "source": []
  },
  {
   "cell_type": "code",
   "execution_count": null,
   "metadata": {},
   "outputs": [],
   "source": []
  },
  {
   "cell_type": "code",
   "execution_count": null,
   "metadata": {},
   "outputs": [],
   "source": []
  },
  {
   "cell_type": "code",
   "execution_count": 147,
   "metadata": {},
   "outputs": [],
   "source": [
    "# b = a.copy()\n",
    "\n",
    "# additional_row = { 'Channels' : 'Total' , 'mROI at Current Spend' : np.nan , 'Current Spend' : b['Current Spend'].sum() , \n",
    "#                     'Allocated Budget' : b['Allocated Budget'].sum(), 'Predicted Revenue' :b['Predicted Revenue' ].sum() , 'Current Revenue' : b['Current Revenue'].sum() ,\n",
    "#                      '% change in revenue' : np.nan, '% change in Spend' : np.nan }\n",
    "# b  =b.append(additional_row , ignore_index=True)\n",
    "# b.head(15)"
   ]
  },
  {
   "cell_type": "code",
   "execution_count": 148,
   "metadata": {},
   "outputs": [
    {
     "name": "stdout",
     "output_type": "stream",
     "text": [
      "['Field calls', 'DTC Paid Search', 'GNA Calls', 'Speaker Program Virtual', 'Speaker Program Person', 'HCP Paid Search', 'Dtc Display', 'DTC Social', 'HCP Display', 'HCP Email', 'HCP Digital']\n"
     ]
    }
   ],
   "source": [
    "xl = pd.ExcelFile('./data/data_new.xlsx')\n",
    "print(xl.sheet_names)"
   ]
  },
  {
   "cell_type": "code",
   "execution_count": 44,
   "metadata": {},
   "outputs": [],
   "source": [
    "# df_ = pd.read_excel('./data/data_new.xlsx' , sheet_name='Field calls' , converters={'% Change in Spend':lambda value : '{}%'.format(value*100)})#\n",
    "# df_.style.format({'% Change in Spend': \"{:.0%}\"})\n",
    "# df_.head()\n",
    "# df_['abc1'] = df_['% Change in Spend'].astype(str)\n",
    "\n",
    "# df_['abc'] = df_['% Change in Spend'].str.rstrip(\"%\").astype(float)/100\n",
    "# df_[df_['abc1']== '7.528699885739343e-14%']\n",
    "# df_.iloc[99:102]\n",
    "\n",
    "\n"
   ]
  },
  {
   "cell_type": "code",
   "execution_count": null,
   "metadata": {},
   "outputs": [],
   "source": [
    "# float(7.528699885739343e-14)\n",
    "# df_[df_['abc'] == 0.00]\n",
    "# # df_[df_['% Change in Spend']== '7.528699885739343e-14%'] \n",
    "# df_[df_['% Change in Spend'] == 0.00]\n",
    "# np.where(df_['% Change in Spend']==0.00)\n",
    "# df_['% Change in Spend1'] =df_['% Change in Spend'].astype(str)\n"
   ]
  },
  {
   "cell_type": "markdown",
   "metadata": {},
   "source": [
    "## **Dataframe**"
   ]
  },
  {
   "cell_type": "code",
   "execution_count": 60,
   "metadata": {},
   "outputs": [
    {
     "data": {
      "text/html": [
       "<div>\n",
       "<style scoped>\n",
       "    .dataframe tbody tr th:only-of-type {\n",
       "        vertical-align: middle;\n",
       "    }\n",
       "\n",
       "    .dataframe tbody tr th {\n",
       "        vertical-align: top;\n",
       "    }\n",
       "\n",
       "    .dataframe thead th {\n",
       "        text-align: right;\n",
       "    }\n",
       "</style>\n",
       "<table border=\"1\" class=\"dataframe\">\n",
       "  <thead>\n",
       "    <tr style=\"text-align: right;\">\n",
       "      <th></th>\n",
       "      <th>% Change in Spend</th>\n",
       "      <th>Revenue</th>\n",
       "      <th>Total Spend</th>\n",
       "      <th>Field Calls_ROI</th>\n",
       "      <th>Field Calls mROI</th>\n",
       "    </tr>\n",
       "  </thead>\n",
       "  <tbody>\n",
       "    <tr>\n",
       "      <th>99</th>\n",
       "      <td>-0.009999999999999247</td>\n",
       "      <td>66491795.74</td>\n",
       "      <td>52362198.04</td>\n",
       "      <td>1.27</td>\n",
       "      <td>0.66</td>\n",
       "    </tr>\n",
       "    <tr>\n",
       "      <th>100</th>\n",
       "      <td>7.528699885739343e-16</td>\n",
       "      <td>66837648.68</td>\n",
       "      <td>52891109.13</td>\n",
       "      <td>1.26</td>\n",
       "      <td>0.65</td>\n",
       "    </tr>\n",
       "    <tr>\n",
       "      <th>101</th>\n",
       "      <td>0.010000000000000753</td>\n",
       "      <td>67180721.52</td>\n",
       "      <td>53420020.22</td>\n",
       "      <td>1.26</td>\n",
       "      <td>0.65</td>\n",
       "    </tr>\n",
       "  </tbody>\n",
       "</table>\n",
       "</div>"
      ],
      "text/plain": [
       "         % Change in Spend     Revenue  Total Spend  Field Calls_ROI  \\\n",
       "99   -0.009999999999999247 66491795.74  52362198.04             1.27   \n",
       "100  7.528699885739343e-16 66837648.68  52891109.13             1.26   \n",
       "101   0.010000000000000753 67180721.52  53420020.22             1.26   \n",
       "\n",
       "     Field Calls mROI  \n",
       "99               0.66  \n",
       "100              0.65  \n",
       "101              0.65  "
      ]
     },
     "execution_count": 60,
     "metadata": {},
     "output_type": "execute_result"
    }
   ],
   "source": [
    "df = pd.read_excel('./data/data_new.xlsx' , sheet_name='Field calls', \n",
    "                    dtype={'% Change in Spend':str} )\n",
    "pd.options.display.float_format = \"{:.2f}\".format\n",
    "df.iloc[99:102]"
   ]
  },
  {
   "cell_type": "code",
   "execution_count": 13,
   "metadata": {},
   "outputs": [
    {
     "data": {
      "text/plain": [
       "Index(['% Change in Spend', 'Revenue', 'Total Spend', 'Field Calls_ROI',\n",
       "       'Field Calls mROI'],\n",
       "      dtype='object')"
      ]
     },
     "execution_count": 13,
     "metadata": {},
     "output_type": "execute_result"
    }
   ],
   "source": [
    "df.columns"
   ]
  },
  {
   "cell_type": "code",
   "execution_count": 61,
   "metadata": {},
   "outputs": [],
   "source": [
    "result_dict = {     # add current budget into this , spend & revenue at current spend , mROI & store itin desc \n",
    "                # add col : % change in budget \n",
    "                # Actual Revenue : \n",
    "                # % change in Revenue \n",
    "                'Channels' :   ['Field calls' , 'DTC Paid Search' , 'HCP Paid Search' , 'HCP Digital' , 'HCP Email' , 'Dtc Display' , 'HCP Display' ,'Speaker Program Person' , 'Speaker Program Virtual' , 'GNA Calls' , 'DTC Social' ] ,                    \n",
    "                'Allocated Budget' : [x[0] for x in model_2._variables] , \n",
    "                'Predicted Revenue' : [y_fild_calls ,y_dp_search , y_hcp_search ,y_hcp_digital , y_hcp_mail ,  y_dtc_display ,y_hcp_display , y_spk_person ,  y_spk_virtual ,y_gna_Calls ,  y_dtc_social ] , \n",
    "                'Current Spend' : [] ,\n",
    "                'Current Revenue' : [] , \n",
    "                'mROI at Current Spend' : [] \n",
    "            } "
   ]
  },
  {
   "cell_type": "code",
   "execution_count": 19,
   "metadata": {},
   "outputs": [],
   "source": [
    "# ch = ['Field calls' , 'DTC Paid Search' , 'HCP Paid Search' , 'HCP Digital' , 'HCP Email' , 'Dtc Display' , 'HCP Display' ,'Speaker Program Person' , 'Speaker Program Virtual' , 'GNA Calls' , 'DTC Social' ] \n",
    "\n",
    "# j = 0 \n",
    "\n",
    "# for i in ch : \n",
    "#     if j < 2 : \n",
    "#         df = pd.read_excel('./data/data_new.xlsx' , sheet_name=i, \n",
    "#                         dtype={'% Change in Spend':str} )\n",
    "#         # print(np.where(df['% Change in Spend'] == '7.528699885739343e-16'))\n",
    "#         a = df[df['% Change in Spend'] == '7.528699885739343e-16']\n",
    "#         print(a['Total Spend'])\n",
    "#         print(a['Revenue'])\n",
    "        \n",
    "#     else :\n",
    "#         break \n",
    "#     j = j + 1 \n",
    "\n",
    "    "
   ]
  },
  {
   "cell_type": "code",
   "execution_count": null,
   "metadata": {},
   "outputs": [],
   "source": []
  },
  {
   "cell_type": "code",
   "execution_count": null,
   "metadata": {},
   "outputs": [],
   "source": []
  },
  {
   "cell_type": "markdown",
   "metadata": {},
   "source": [
    "## **results __ optimizer**"
   ]
  },
  {
   "cell_type": "code",
   "execution_count": null,
   "metadata": {},
   "outputs": [],
   "source": [
    "print( 'PRedicted Revenue :  ' , y_fild_calls + y_dp_search + y_hcp_search + y_hcp_digital + y_hcp_mail + y_dtc_display + y_hcp_display + y_spk_person + y_spk_virtual+ y_gna_Calls+ y_dtc_social)\n",
    "print('Optimizer Maximized Result : ' , model_2.options.OBJFCNVAL)"
   ]
  },
  {
   "cell_type": "code",
   "execution_count": null,
   "metadata": {},
   "outputs": [],
   "source": [
    "print(' y_fild_calls : ' , y_fild_calls)\n",
    "print(' y_dp_search : ' , y_dp_search)\n",
    "print(' y_hcp_search : ' , y_hcp_search)\n",
    "print(' y_hcp_digital : ' , y_hcp_digital)\n",
    "print(' y_hcp_mail : ' , y_hcp_mail)\n",
    "print(' y_dtc_display : ' , y_dtc_display)\n",
    "print(' y_hcp_display : ' , y_hcp_display)\n",
    "print('y_speaker_person' , y_spk_person)\n",
    "print(' y_spk_virtual : ' , y_spk_virtual)\n",
    "print(' y_gna_Calls : ' , y_gna_Calls)\n",
    "print(' y_dtc_social : ' , y_dtc_social)"
   ]
  },
  {
   "cell_type": "code",
   "execution_count": null,
   "metadata": {},
   "outputs": [],
   "source": [
    "# a = [ x[0] for x in model_2._variables]\n",
    "# b= ['field call' ,'dtc paid search' , 'hcp paid search' , 'hcp_digital_spend' , 'hcp_mail_spend' , 'dtc_display_spend', 'hcp_display_spend' , 'spk_person_spend' , 'spk_virtual_spend' , 'gna_call_spend' , 'dtc_social_spend']\n",
    "# mroi =[1.00,0.18,13.64,0.18,1.90,4.93,5.24,0.17,3.56,0.92,2.08]\n",
    "# op = list(zip(b,mroi,a))\n",
    "# op\n",
    "# # less_than_10p"
   ]
  },
  {
   "cell_type": "code",
   "execution_count": null,
   "metadata": {},
   "outputs": [],
   "source": [
    "# Field_sqrt = 45221898.0**0.5\n",
    "# dp_sqrt = 7869000.0**0.5   #  2,68,299 \n",
    "\n",
    "# hcp_sqrt =298660.5**0.5 \n",
    "# hcp_digital_sqrt =  594939.0**0.5\n",
    "# hcp_mail_Sqrt = 241224.0**0.5\n",
    "# dtc_display_sqrt = 2764800.0**0.5 \n",
    "# hcp_display_sqrt = 1694511.0**0.5       #  24250960.13\n",
    "# spk_person_sqrt = 30239.376554**0.5\n",
    "# spk_virtual_Sqrt =  18913.5**0.5\n",
    "\n",
    "# gna_call_sqrt =924000.0**0.5 \n",
    "# dtc_social_sqrt  = 2718720.00**0.5 "
   ]
  },
  {
   "cell_type": "markdown",
   "metadata": {},
   "source": [
    "# cache"
   ]
  },
  {
   "cell_type": "code",
   "execution_count": null,
   "metadata": {},
   "outputs": [],
   "source": [
    "# with few changes\n",
    "js4 = '''{\"channel_name\":{\"0\":\"Dtc_display\",\"1\":\"DTC Social\",\"2\":\"Dtc_paid_service\"},\"function_type\":{\"0\":\"log-log\",\"1\":\"log-level\",\"2\":\"log-level\"},\"r-square\":{\"0\":0.9738176647,\"1\":0.97559292,\"2\":0.9755297402},\"term_1 (a)\":{\"0\":4.58815775,\"1\":0.33439696,\"2\":0.39308951},\"term_2 (b)\":{\"0\":4.90066613,\"1\":12.30889356,\"2\":8.64657667},\"current_spend\":{\"0\":100000,\"1\":100000,\"2\":100000},\"min_spend\":{\"0\":100000,\"1\":100000,\"2\":100000},\n",
    "        \"max_spend\":{\"0\":310000,\"1\":490050,\"2\":240000},\n",
    "        \"total_budget\":{\"0\":380000,\"1\":500000,\"2\":500000}\n",
    "        ,\"threshould\":{\"0\":0.2,\"1\":0.4,\"2\":0.4}}'''"
   ]
  },
  {
   "cell_type": "code",
   "execution_count": null,
   "metadata": {},
   "outputs": [],
   "source": [
    "from functools import lru_cache\n",
    "\n",
    "@lru_cache(maxsize=10)\n",
    "def optimizer(data) : \n",
    "\n",
    "    df = pd.read_json(data)\n",
    "    channels_list = df.channel_name.values \n",
    "    Variables_dict = {} \n",
    "    equations_dict = {} \n",
    "    TOTAL_BUDGET = df['total_budget'].unique()[0]\n",
    "\n",
    "    model=GEKKO() \n",
    "\n",
    "    for _ , row_ in df.iterrows():\n",
    "        Variables_dict[row_['channel_name']] =  model.Var(value= row_['current_spend'], lb=row_['min_spend'],ub=row_['max_spend'] , name= row_['channel_name'] )\n",
    "        \n",
    "        def build_eq(row_ , knob=None) :\n",
    "            equations_dict[row_['channel_name']] = model.Equation( Variables_dict[row_['channel_name']]  < row_['max_spend'] )  \n",
    "\n",
    "        build_eq(row_ = row_ )  # constrains \n",
    "        model.Maximize( ( model._variables[_] * row_['term_1 (a)'] + row_['term_2 (b)']  ) ) ## Objective Function n\n",
    "\n",
    "    model.Equation(sum(model._variables) == TOTAL_BUDGET) # constrains    \n",
    "    model.solve(disp=False) \n",
    "  \n",
    "    result_dictionary = dict(zip(channels_list , model._variables))\n",
    "    result_dictionary['Objective'] = model.options.objfcnval\n",
    "    print(result_dictionary)\n",
    "    return result_dictionary"
   ]
  },
  {
   "cell_type": "code",
   "execution_count": null,
   "metadata": {},
   "outputs": [],
   "source": [
    "optimizer(js4)"
   ]
  },
  {
   "cell_type": "code",
   "execution_count": null,
   "metadata": {},
   "outputs": [],
   "source": []
  },
  {
   "cell_type": "code",
   "execution_count": null,
   "metadata": {},
   "outputs": [],
   "source": []
  }
 ],
 "metadata": {
  "interpreter": {
   "hash": "ef043d742675c8ab4025b7d62b3ec96dba9612665876ce77386b54c8c58cefde"
  },
  "kernelspec": {
   "display_name": "Python 3 (ipykernel)",
   "language": "python",
   "name": "python3"
  },
  "language_info": {
   "codemirror_mode": {
    "name": "ipython",
    "version": 3
   },
   "file_extension": ".py",
   "mimetype": "text/x-python",
   "name": "python",
   "nbconvert_exporter": "python",
   "pygments_lexer": "ipython3",
   "version": "3.7.11"
  }
 },
 "nbformat": 4,
 "nbformat_minor": 2
}
